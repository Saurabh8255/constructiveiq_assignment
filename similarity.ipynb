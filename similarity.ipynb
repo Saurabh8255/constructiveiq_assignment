{
 "cells": [
  {
   "cell_type": "markdown",
   "metadata": {},
   "source": [
    "Load the Dependencies"
   ]
  },
  {
   "cell_type": "code",
   "execution_count": 1,
   "metadata": {},
   "outputs": [
    {
     "name": "stderr",
     "output_type": "stream",
     "text": [
      "d:\\personal\\constructiveiq\\assignment\\const\\Lib\\site-packages\\sentence_transformers\\cross_encoder\\CrossEncoder.py:13: TqdmWarning: IProgress not found. Please update jupyter and ipywidgets. See https://ipywidgets.readthedocs.io/en/stable/user_install.html\n",
      "  from tqdm.autonotebook import tqdm, trange\n"
     ]
    }
   ],
   "source": [
    "import pandas as pd\n",
    "from sentence_transformers import SentenceTransformer"
   ]
  },
  {
   "cell_type": "markdown",
   "metadata": {},
   "source": [
    "Load the Embedding Model from sentencetransformer"
   ]
  },
  {
   "cell_type": "code",
   "execution_count": 4,
   "metadata": {},
   "outputs": [
    {
     "name": "stderr",
     "output_type": "stream",
     "text": [
      "d:\\personal\\constructiveiq\\assignment\\const\\Lib\\site-packages\\transformers\\tokenization_utils_base.py:1617: FutureWarning: `clean_up_tokenization_spaces` was not set. It will be set to `True` by default. This behavior will be deprecated in transformers v4.45, and will be then set to `False` by default. For more details check this issue: https://github.com/huggingface/transformers/issues/31884\n",
      "  warnings.warn(\n"
     ]
    }
   ],
   "source": [
    "model = SentenceTransformer('all-MiniLM-L6-v2')"
   ]
  },
  {
   "cell_type": "markdown",
   "metadata": {},
   "source": [
    "Load the materials.csv data"
   ]
  },
  {
   "cell_type": "code",
   "execution_count": 3,
   "metadata": {},
   "outputs": [
    {
     "data": {
      "text/html": [
       "<div>\n",
       "<style scoped>\n",
       "    .dataframe tbody tr th:only-of-type {\n",
       "        vertical-align: middle;\n",
       "    }\n",
       "\n",
       "    .dataframe tbody tr th {\n",
       "        vertical-align: top;\n",
       "    }\n",
       "\n",
       "    .dataframe thead th {\n",
       "        text-align: right;\n",
       "    }\n",
       "</style>\n",
       "<table border=\"1\" class=\"dataframe\">\n",
       "  <thead>\n",
       "    <tr style=\"text-align: right;\">\n",
       "      <th></th>\n",
       "      <th>ID</th>\n",
       "      <th>Material_Description</th>\n",
       "    </tr>\n",
       "  </thead>\n",
       "  <tbody>\n",
       "    <tr>\n",
       "      <th>0</th>\n",
       "      <td>1</td>\n",
       "      <td>INSULATION GASKET KIT - 2\" - 300# - DOUBLE COM...</td>\n",
       "    </tr>\n",
       "    <tr>\n",
       "      <th>1</th>\n",
       "      <td>2</td>\n",
       "      <td>ASSEMBLY COMPRESSOR - 10\" - 150# - HOT DIP GAL...</td>\n",
       "    </tr>\n",
       "    <tr>\n",
       "      <th>2</th>\n",
       "      <td>3</td>\n",
       "      <td>SPUR GEAR PINION SHAFT - 10\" - 150# - SCH.XS A...</td>\n",
       "    </tr>\n",
       "    <tr>\n",
       "      <th>3</th>\n",
       "      <td>4</td>\n",
       "      <td>SUCTION HEADER - 6\" - 600# - HOT DIP GALVANIZE...</td>\n",
       "    </tr>\n",
       "    <tr>\n",
       "      <th>4</th>\n",
       "      <td>5</td>\n",
       "      <td>MOVABLE STOOL - 6\" - 150# - DUAL CERTIFIED, DR...</td>\n",
       "    </tr>\n",
       "  </tbody>\n",
       "</table>\n",
       "</div>"
      ],
      "text/plain": [
       "   ID                               Material_Description\n",
       "0   1  INSULATION GASKET KIT - 2\" - 300# - DOUBLE COM...\n",
       "1   2  ASSEMBLY COMPRESSOR - 10\" - 150# - HOT DIP GAL...\n",
       "2   3  SPUR GEAR PINION SHAFT - 10\" - 150# - SCH.XS A...\n",
       "3   4  SUCTION HEADER - 6\" - 600# - HOT DIP GALVANIZE...\n",
       "4   5  MOVABLE STOOL - 6\" - 150# - DUAL CERTIFIED, DR..."
      ]
     },
     "execution_count": 3,
     "metadata": {},
     "output_type": "execute_result"
    }
   ],
   "source": [
    "df = pd.read_csv(r\"D:\\personal\\constructiveiq\\assignment\\materials.csv\")\n",
    "df.head()"
   ]
  },
  {
   "cell_type": "markdown",
   "metadata": {},
   "source": [
    "Calculate Embeddings for each Material Description"
   ]
  },
  {
   "cell_type": "code",
   "execution_count": 7,
   "metadata": {},
   "outputs": [
    {
     "data": {
      "text/html": [
       "<div>\n",
       "<style scoped>\n",
       "    .dataframe tbody tr th:only-of-type {\n",
       "        vertical-align: middle;\n",
       "    }\n",
       "\n",
       "    .dataframe tbody tr th {\n",
       "        vertical-align: top;\n",
       "    }\n",
       "\n",
       "    .dataframe thead th {\n",
       "        text-align: right;\n",
       "    }\n",
       "</style>\n",
       "<table border=\"1\" class=\"dataframe\">\n",
       "  <thead>\n",
       "    <tr style=\"text-align: right;\">\n",
       "      <th></th>\n",
       "      <th>ID</th>\n",
       "      <th>Material_Description</th>\n",
       "      <th>Embeddings</th>\n",
       "    </tr>\n",
       "  </thead>\n",
       "  <tbody>\n",
       "    <tr>\n",
       "      <th>0</th>\n",
       "      <td>1</td>\n",
       "      <td>INSULATION GASKET KIT - 2\" - 300# - DOUBLE COM...</td>\n",
       "      <td>[-0.12933023273944855, 0.10615091025829315, -0...</td>\n",
       "    </tr>\n",
       "    <tr>\n",
       "      <th>1</th>\n",
       "      <td>2</td>\n",
       "      <td>ASSEMBLY COMPRESSOR - 10\" - 150# - HOT DIP GAL...</td>\n",
       "      <td>[-0.14430809020996094, 0.07952915877103806, -0...</td>\n",
       "    </tr>\n",
       "    <tr>\n",
       "      <th>2</th>\n",
       "      <td>3</td>\n",
       "      <td>SPUR GEAR PINION SHAFT - 10\" - 150# - SCH.XS A...</td>\n",
       "      <td>[-0.08783309906721115, 0.027707230299711227, -...</td>\n",
       "    </tr>\n",
       "    <tr>\n",
       "      <th>3</th>\n",
       "      <td>4</td>\n",
       "      <td>SUCTION HEADER - 6\" - 600# - HOT DIP GALVANIZE...</td>\n",
       "      <td>[-0.10966168344020844, 0.08991578966379166, -0...</td>\n",
       "    </tr>\n",
       "    <tr>\n",
       "      <th>4</th>\n",
       "      <td>5</td>\n",
       "      <td>MOVABLE STOOL - 6\" - 150# - DUAL CERTIFIED, DR...</td>\n",
       "      <td>[0.003951432183384895, -0.04436597600579262, -...</td>\n",
       "    </tr>\n",
       "  </tbody>\n",
       "</table>\n",
       "</div>"
      ],
      "text/plain": [
       "   ID                               Material_Description  \\\n",
       "0   1  INSULATION GASKET KIT - 2\" - 300# - DOUBLE COM...   \n",
       "1   2  ASSEMBLY COMPRESSOR - 10\" - 150# - HOT DIP GAL...   \n",
       "2   3  SPUR GEAR PINION SHAFT - 10\" - 150# - SCH.XS A...   \n",
       "3   4  SUCTION HEADER - 6\" - 600# - HOT DIP GALVANIZE...   \n",
       "4   5  MOVABLE STOOL - 6\" - 150# - DUAL CERTIFIED, DR...   \n",
       "\n",
       "                                          Embeddings  \n",
       "0  [-0.12933023273944855, 0.10615091025829315, -0...  \n",
       "1  [-0.14430809020996094, 0.07952915877103806, -0...  \n",
       "2  [-0.08783309906721115, 0.027707230299711227, -...  \n",
       "3  [-0.10966168344020844, 0.08991578966379166, -0...  \n",
       "4  [0.003951432183384895, -0.04436597600579262, -...  "
      ]
     },
     "execution_count": 7,
     "metadata": {},
     "output_type": "execute_result"
    }
   ],
   "source": [
    "# Calculate embeddings for each material description\n",
    "df['Embeddings'] = df['Material_Description'].apply(lambda x: model.encode(x).tolist())\n",
    "df.head()"
   ]
  },
  {
   "cell_type": "markdown",
   "metadata": {},
   "source": [
    "Save the Embeddings to materials.csv"
   ]
  },
  {
   "cell_type": "code",
   "execution_count": 9,
   "metadata": {},
   "outputs": [],
   "source": [
    "df.to_csv('materials.csv', index=False)"
   ]
  },
  {
   "cell_type": "markdown",
   "metadata": {},
   "source": [
    "Calculate Similarity between Pair of ID's given in test_pairs.csv and save the similarity for each pair in submission.csv"
   ]
  },
  {
   "cell_type": "code",
   "execution_count": 1,
   "metadata": {},
   "outputs": [
    {
     "name": "stdout",
     "output_type": "stream",
     "text": [
      "Similarity scores calculated and saved successfully.\n"
     ]
    }
   ],
   "source": [
    "import pandas as pd\n",
    "from sklearn.metrics.pairwise import cosine_similarity\n",
    "\n",
    "# Load the materials with embeddings from the first CSV file\n",
    "materials_df = pd.read_csv('materials.csv')\n",
    "\n",
    "# Load the pairs of material IDs from the second CSV file\n",
    "pairs_df = pd.read_csv('test_pairs.csv')\n",
    "\n",
    "# Convert the 'embeddings' column back from string to list (if stored as string in the CSV)\n",
    "materials_df['Embeddings'] = materials_df['Embeddings'].apply(eval)\n",
    "\n",
    "# Create a dictionary to quickly access embeddings by material ID\n",
    "embeddings_dict = dict(zip(materials_df['ID'], materials_df['Embeddings']))\n",
    "\n",
    "# Function to calculate similarity between two material IDs\n",
    "def calculate_similarity(id1, id2):\n",
    "    embedding1 = embeddings_dict.get(id1)\n",
    "    embedding2 = embeddings_dict.get(id2)\n",
    "    if embedding1 is not None and embedding2 is not None:\n",
    "        similarity = cosine_similarity([embedding1], [embedding2])[0][0]\n",
    "        return similarity\n",
    "    else:\n",
    "        return None\n",
    "\n",
    "# Apply the similarity calculation to each pair of IDs\n",
    "pairs_df['similarity'] = pairs_df.apply(lambda row: calculate_similarity(row['ID_1'], row['ID_2']), axis=1)\n",
    "\n",
    "# Save the DataFrame with similarity scores back to the CSV file\n",
    "pairs_df.to_csv('submission.csv', index=False)\n",
    "\n",
    "print(\"Similarity scores calculated and saved successfully.\")\n"
   ]
  },
  {
   "cell_type": "markdown",
   "metadata": {},
   "source": [
    "Euclidean Distance"
   ]
  },
  {
   "cell_type": "code",
   "execution_count": 2,
   "metadata": {},
   "outputs": [
    {
     "name": "stdout",
     "output_type": "stream",
     "text": [
      "Euclidean distances calculated and saved successfully.\n"
     ]
    }
   ],
   "source": [
    "import pandas as pd\n",
    "from numpy import linalg as LA\n",
    "\n",
    "# Load the materials with embeddings from the first CSV file\n",
    "materials_df = pd.read_csv('materials.csv')\n",
    "\n",
    "# Load the pairs of material IDs from the second CSV file\n",
    "pairs_df = pd.read_csv('test_pairs.csv')\n",
    "\n",
    "# Convert the 'embeddings' column back from string to list (if stored as string in the CSV)\n",
    "materials_df['Embeddings'] = materials_df['Embeddings'].apply(eval)\n",
    "\n",
    "# Create a dictionary to quickly access embeddings by material ID\n",
    "embeddings_dict = dict(zip(materials_df['ID'], materials_df['Embeddings']))\n",
    "\n",
    "# Function to calculate Euclidean distance between two material IDs\n",
    "def euclidean_distance(id1, id2):\n",
    "    embedding1 = embeddings_dict.get(id1)\n",
    "    embedding2 = embeddings_dict.get(id2)\n",
    "    if embedding1 is not None and embedding2 is not None:\n",
    "        # Calculate Euclidean distance between the two embeddings\n",
    "        distance = LA.norm([e1 - e2 for e1, e2 in zip(embedding1, embedding2)])\n",
    "        return distance\n",
    "    else:\n",
    "        return None\n",
    "\n",
    "# Apply the distance calculation to each pair of IDs\n",
    "pairs_df['euclidean_distance'] = pairs_df.apply(lambda row: euclidean_distance(row['ID_1'], row['ID_2']), axis=1)\n",
    "\n",
    "# Save the DataFrame with Euclidean distances back to the CSV file\n",
    "pairs_df.to_csv('test_pairs_with_euclidean_distance.csv', index=False)\n",
    "\n",
    "print(\"Euclidean distances calculated and saved successfully.\")\n"
   ]
  },
  {
   "cell_type": "code",
   "execution_count": 4,
   "metadata": {},
   "outputs": [
    {
     "name": "stdout",
     "output_type": "stream",
     "text": [
      "Euclidean similarity scores calculated and saved successfully.\n"
     ]
    }
   ],
   "source": [
    "import pandas as pd\n",
    "from numpy import linalg as LA\n",
    "\n",
    "# Load the materials with embeddings from the first CSV file\n",
    "materials_df = pd.read_csv('materials.csv')\n",
    "\n",
    "# Load the pairs of material IDs from the second CSV file\n",
    "pairs_df = pd.read_csv('test_pairs.csv')\n",
    "\n",
    "# Convert the 'embeddings' column back from string to list (if stored as string in the CSV)\n",
    "materials_df['Embeddings'] = materials_df['Embeddings'].apply(eval)\n",
    "\n",
    "# Create a dictionary to quickly access embeddings by material ID\n",
    "embeddings_dict = dict(zip(materials_df['ID'], materials_df['Embeddings']))\n",
    "\n",
    "# Function to calculate Euclidean distance-based similarity between two material IDs\n",
    "def euclidean_similarity(id1, id2):\n",
    "    embedding1 = embeddings_dict.get(id1)\n",
    "    embedding2 = embeddings_dict.get(id2)\n",
    "    if embedding1 is not None and embedding2 is not None:\n",
    "        # Calculate Euclidean distance between the two embeddings\n",
    "        distance = LA.norm([e1 - e2 for e1, e2 in zip(embedding1, embedding2)])\n",
    "        # Convert Euclidean distance to similarity\n",
    "        similarity = 1 / (1 + distance)\n",
    "        return similarity\n",
    "    else:\n",
    "        return None\n",
    "\n",
    "# Apply the similarity calculation to each pair of IDs\n",
    "pairs_df['euclidean_similarity'] = pairs_df.apply(lambda row: euclidean_similarity(row['ID_1'], row['ID_2']), axis=1)\n",
    "\n",
    "# Save the DataFrame with similarity scores back to the CSV file\n",
    "pairs_df.to_csv('test_pairs_with_euclidean_similarity.csv', index=False)\n",
    "\n",
    "print(\"Euclidean similarity scores calculated and saved successfully.\")\n"
   ]
  },
  {
   "cell_type": "markdown",
   "metadata": {},
   "source": [
    "I calculated Euclidean similarity but it was not that effective as cosine similarity"
   ]
  },
  {
   "cell_type": "markdown",
   "metadata": {},
   "source": []
  }
 ],
 "metadata": {
  "kernelspec": {
   "display_name": "const",
   "language": "python",
   "name": "python3"
  },
  "language_info": {
   "codemirror_mode": {
    "name": "ipython",
    "version": 3
   },
   "file_extension": ".py",
   "mimetype": "text/x-python",
   "name": "python",
   "nbconvert_exporter": "python",
   "pygments_lexer": "ipython3",
   "version": "3.12.4"
  }
 },
 "nbformat": 4,
 "nbformat_minor": 2
}
